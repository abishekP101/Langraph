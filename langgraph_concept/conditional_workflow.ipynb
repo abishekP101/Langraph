{
 "cells": [
  {
   "cell_type": "markdown",
   "id": "ae2b1ab2",
   "metadata": {},
   "source": [
    "## Quadratic equation conditional workflow"
   ]
  },
  {
   "cell_type": "code",
   "execution_count": 3,
   "id": "c1b2869b",
   "metadata": {},
   "outputs": [],
   "source": [
    "from langgraph.graph import StateGraph , START , END\n",
    "from typing import TypedDict , Literal\n"
   ]
  },
  {
   "cell_type": "code",
   "execution_count": 4,
   "id": "c6c1bedb",
   "metadata": {},
   "outputs": [],
   "source": [
    "class QuadState(TypedDict):\n",
    "    a: int\n",
    "    b: int\n",
    "    c: int\n",
    "\n",
    "    equation: str\n",
    "    discriminant: float\n",
    "    result: str"
   ]
  },
  {
   "cell_type": "code",
   "execution_count": 5,
   "id": "57928a34",
   "metadata": {},
   "outputs": [],
   "source": [
    "def show_equation(state: QuadState):\n",
    "    equation = f\"{state['a']}x2+({state['b']})x+({state['c']})\"\n",
    "\n",
    "    return {'equation':equation}\n",
    "\n",
    "def calculate_d(state: QuadState):\n",
    "    d = (state['b']**2 - (4*state['a']*state['c']))\n",
    "\n",
    "    return {'discriminant':d}\n",
    "\n",
    "\n",
    "def real_roots(state: QuadState):\n",
    "    root1 = (-state['b']+ state['discriminant']**0.5)/(2*state['a'])\n",
    "    root2 = (-state['b']- state['discriminant']**0.5)/(2*state['a'])\n",
    "\n",
    "    result =  f\"The real roots are {root1} and {root2}\"\n",
    "\n",
    "    return {'result':result}\n",
    "\n",
    "def repeated_roots(state: QuadState):\n",
    "    root1 = -state['b']/(2*state['a'])\n",
    "\n",
    "    result =  f\"The only repeating root is {root1}\"\n",
    "\n",
    "    return {'result':result}\n",
    "\n",
    "def no_real_roots(state: QuadState):\n",
    "    result =  \"NO real roots\"\n",
    "\n",
    "    return {'result':result}\n",
    "\n",
    "\n",
    "def check_condition(state: QuadState) -> Literal['real_roots' , 'no_real_roots' , 'repeated_roots']:\n",
    "    if state['discriminant']>0:\n",
    "        return 'real_roots'\n",
    "    \n",
    "    elif state['discriminant']==0:\n",
    "        return 'repeated_roots'\n",
    "    \n",
    "    else:\n",
    "        return \"no_real_roots\""
   ]
  },
  {
   "cell_type": "code",
   "execution_count": 7,
   "id": "657e0d22",
   "metadata": {},
   "outputs": [
    {
     "data": {
      "image/png": "[encoded data removed]",
      "text/plain": [
       "<langgraph.graph.state.CompiledStateGraph object at 0x00000153F0A8B200>"
      ]
     },
     "execution_count": 7,
     "metadata": {},
     "output_type": "execute_result"
    }
   ],
   "source": [
    "graph = StateGraph(QuadState)\n",
    "graph.add_node('show_equation' , show_equation)\n",
    "graph.add_node('calculate_d' , calculate_d)\n",
    "graph.add_node('real_roots' , real_roots)\n",
    "graph.add_node('repeated_roots' , repeated_roots)\n",
    "graph.add_node('no_real_roots' , no_real_roots)\n",
    "\n",
    "\n",
    "\n",
    "graph.add_edge(START , \"show_equation\")\n",
    "graph.add_edge('show_equation' , 'calculate_d')\n",
    "graph.add_conditional_edges('calculate_d' , check_condition)\n",
    "graph.add_edge('calculate_d' , END)\n",
    "graph.compile()"
   ]
  },
  {
   "cell_type": "code",
   "execution_count": 8,
   "id": "51ab9f6c",
   "metadata": {},
   "outputs": [
    {
     "data": {
      "text/plain": [
       "{'a': 4,\n",
       " 'b': -3,\n",
       " 'c': -9,\n",
       " 'equation': '4x2+(-3)x+(-9)',\n",
       " 'discriminant': 153,\n",
       " 'result': 'The real roots are 1.9211646096066226 and -1.1711646096066226'}"
      ]
     },
     "execution_count": 8,
     "metadata": {},
     "output_type": "execute_result"
    }
   ],
   "source": [
    "initial_state = {\n",
    "    'a':4,\n",
    "    'b':-3,\n",
    "    'c':-9\n",
    "}\n",
    "app = graph.compile()\n",
    "app.invoke(initial_state)"
   ]
  },
  {
   "cell_type": "markdown",
   "id": "adbb6158",
   "metadata": {},
   "source": [
    "## LLM Based Parallel Workflow"
   ]
  },
  {
   "cell_type": "code",
   "execution_count": 1,
   "id": "97be8d11",
   "metadata": {},
   "outputs": [],
   "source": [
    "from langgraph.graph import StateGraph ,START , END\n",
    "from typing import TypedDict , Annotated\n",
    "from langchain_groq import ChatGroq\n",
    "from dotenv import load_dotenv\n",
    "from pydantic import BaseModel , Field\n",
    "import operator\n",
    "import os\n",
    "load_dotenv()\n",
    "GROQ_API_KEY = os.getenv('GROQ_API_KEY1')\n",
    "\n",
    "model = ChatGroq(model_name=\"llama3-70b-8192\", api_key=GROQ_API_KEY, temperature=0.7)\n"
   ]
  },
  {
   "cell_type": "code",
   "execution_count": 4,
   "id": "08018659",
   "metadata": {},
   "outputs": [],
   "source": [
    "class SentimentSchema(BaseModel):\n",
    "    sentiment: Literal['positive' , 'negative'] = Field(description='Sentiment of the review')\n",
    "\n",
    "\n",
    "structured_model = model.with_structured_output(SentimentSchema)"
   ]
  },
  {
   "cell_type": "code",
   "execution_count": 10,
   "id": "d767e5fa",
   "metadata": {},
   "outputs": [],
   "source": [
    "class DiagnosisSchema(BaseModel):\n",
    "    issue_type: Literal['UX' , 'Performance' , 'Bug' , 'Support' , 'Other'] = Field(description='the category of issue mentioned in the review')\n",
    "    tone: Literal['frustrated', 'angry', 'disapointed' , 'calm'] = Field(description='The emotional tone expressed by the user')\n",
    "    urgency: Literal['low' , 'medium' , 'high'] = Field(description='How urgent or critical the issue appears to be')\n",
    "\n",
    "structured_model2 = model.with_structured_output(DiagnosisSchema)\n"
   ]
  },
  {
   "cell_type": "code",
   "execution_count": 5,
   "id": "d8a29a40",
   "metadata": {},
   "outputs": [],
   "source": [
    "class ReviewState(TypedDict):\n",
    "    review: str\n",
    "    sentiment: Literal['positive' , 'negative']\n",
    "    diagnosis: dict\n",
    "    response: str"
   ]
  },
  {
   "cell_type": "code",
   "execution_count": 7,
   "id": "8587b21c",
   "metadata": {},
   "outputs": [],
   "source": [
    "def find_sentiment(state: ReviewState):\n",
    "    prompt = f\"For the following review find out the sentiment \\n {state['review']}\"\n",
    "    sentiment = structured_model.invoke(prompt).sentiment\n",
    "    return {'sentiment': sentiment}\n",
    "\n",
    "\n",
    "def check_sentiment(state: ReviewState) -> Literal[\"positive_response\",'run_diagnosis']:\n",
    "    if state['sentiment'] == 'positive':\n",
    "        return 'positive_response'\n",
    "    else:\n",
    "        return 'run_diagnosis'\n",
    "    \n",
    "def positive_response(state: ReviewState):\n",
    "    prompt = f\"\"\"\n",
    "                Write a warm thank-you message in response to this review: \n",
    "                \\n\\n \"{state['review']}\\\"\\n\n",
    "                Also, kindly ask the user to leave feedback on our website\"\"\"\n",
    "    response = model.invoke(prompt).content\n",
    "\n",
    "    return {'response' : response}\n",
    "    \n",
    "def run_diagnosis(state: ReviewState):\n",
    "    prompt = f\"\"\"Diagnosis this negative review: \\n\\n '{state['review']}'\\n\n",
    "    Return issue_type , tone and urgency\"\"\"\n",
    "    response = structured_model2.invoke(prompt)\n",
    "    return {'diagnosis': response.model_dump()}\n",
    "\n",
    "def negative_response(state: ReviewState):\n",
    "    diagnosis = state['diagnosis']\n",
    "    prompt = f\"\"\"You are a support assistance\n",
    "                The user had a '{diagnosis['issue_type']}' issue , sounded '{diagnosis['tone']}' , and marked urgency as '{diagnosis['urgency']}'\n",
    "                Write an empathetic, helpful resolution message\"\"\"\n",
    "    response = model.invoke(prompt).content\n",
    "\n",
    "    return {'response' : response}\n"
   ]
  },
  {
   "cell_type": "code",
   "execution_count": 8,
   "id": "e764adf5",
   "metadata": {},
   "outputs": [],
   "source": [
    "graph = StateGraph(ReviewState)\n",
    "graph.add_node('find_sentiment' , find_sentiment)\n",
    "graph.add_node('positive_response' , positive_response)\n",
    "graph.add_node('negative_response' , negative_response)\n",
    "graph.add_node('run_diagnosis' , run_diagnosis)\n",
    "\n",
    "graph.add_edge(START , 'find_sentiment')\n",
    "graph.add_conditional_edges('find_sentiment' , check_sentiment)\n",
    "graph.add_edge('positive_response' , END)\n",
    "graph.add_edge('run_diagnosis' ,'negative_response')\n",
    "graph.add_edge('negative_response' , END)\n",
    "\n",
    "app = graph.compile()\n"
   ]
  },
  {
   "cell_type": "code",
   "execution_count": 11,
   "id": "a1bc0e69",
   "metadata": {},
   "outputs": [
    {
     "data": {
      "text/plain": [
       "{'review': 'Performance is not up to the mark , hangs a lot... I need my phone repaired urgently...',\n",
       " 'sentiment': 'negative',\n",
       " 'diagnosis': {'issue_type': 'Performance',\n",
       "  'tone': 'frustrated',\n",
       "  'urgency': 'high'},\n",
       " 'response': \"**Urgent: Performance Issue Resolution**\\n\\nDear [User's Name],\\n\\nI'm so sorry to hear that you're experiencing performance issues, and I can sense your frustration. I'm here to help you resolve this issue as quickly as possible. I understand how crucial it is to have a seamless experience, and I apologize for any inconvenience this has caused.\\n\\nI've escalated your issue to our top priority, and I'll work closely with our technical team to get to the bottom of this. To better assist you, could you please provide more details about the performance issues you're facing? For example:\\n\\n* What specific actions were you performing when the issue occurred?\\n* Are there any error messages or screenshots you can share with me?\\n* Have you noticed any patterns or triggers that might be contributing to the issue?\\n\\nYour input will be invaluable in helping us identify the root cause and provide a swift resolution.\\n\\nIn the meantime, I'd like to offer some immediate assistance. Our technical team is available 24/7, and I can schedule a call with one of our experts to work on this issue together. Would you prefer a call at your earliest convenience or would you like me to keep you updated via email?\\n\\nPlease know that I'm committed to resolving this issue for you as quickly as possible. Your satisfaction is our top priority, and I appreciate your patience and cooperation.\\n\\nIf you have any questions or concerns, please don't hesitate to reach out. I'm here to help.\\n\\nThank you for your understanding, and I look forward to updating you on the progress soon.\\n\\nBest regards,\\n\\n[Your Name]\\nSupport Assistance\"}"
      ]
     },
     "execution_count": 11,
     "metadata": {},
     "output_type": "execute_result"
    }
   ],
   "source": [
    "initial_state ={\n",
    "    'review': 'Performance is not up to the mark , hangs a lot... I need my phone repaired urgently...'\n",
    "}\n",
    "\n",
    "app.invoke(initial_state)"
   ]
  }
 ],
 "metadata": {
  "kernelspec": {
   "display_name": "Python 3",
   "language": "python",
   "name": "python3"
  },
  "language_info": {
   "codemirror_mode": {
    "name": "ipython",
    "version": 3
   },
   "file_extension": ".py",
   "mimetype": "text/x-python",
   "name": "python",
   "nbconvert_exporter": "python",
   "pygments_lexer": "ipython3",
   "version": "3.12.4"
  }
 },
 "nbformat": 4,
 "nbformat_minor": 5
}
