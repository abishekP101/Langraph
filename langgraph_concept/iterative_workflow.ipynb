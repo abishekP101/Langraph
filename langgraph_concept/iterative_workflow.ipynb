{
 "cells": [
  {
   "cell_type": "code",
   "execution_count": 22,
   "id": "6754ecd4",
   "metadata": {},
   "outputs": [],
   "source": [
    "from langgraph.graph import StateGraph ,START , END , add_messages\n",
    "from typing import TypedDict , Annotated , Literal\n",
    "from langchain_groq import ChatGroq\n",
    "from dotenv import load_dotenv\n",
    "from pydantic import BaseModel , Field\n",
    "from langchain_core.messages import HumanMessage , SystemMessage\n",
    "import os\n",
    "load_dotenv()\n",
    "GROQ_API_KEY = os.getenv('GROQ_API_KEY1')\n",
    "import operator"
   ]
  },
  {
   "cell_type": "code",
   "execution_count": 23,
   "id": "6729d919",
   "metadata": {},
   "outputs": [],
   "source": [
    "generator_llm = ChatGroq(model_name=\"llama3-70b-8192\", api_key=GROQ_API_KEY, temperature=0.7)\n",
    "evaluator_llm = ChatGroq(model_name=\"llama3-70b-8192\", api_key=GROQ_API_KEY, temperature=0.7)\n",
    "optimizer_llm = ChatGroq(model_name=\"llama3-70b-8192\", api_key=GROQ_API_KEY, temperature=0.7)\n"
   ]
  },
  {
   "cell_type": "code",
   "execution_count": 24,
   "id": "17f12d23",
   "metadata": {},
   "outputs": [],
   "source": [
    "class TweetState(TypedDict):\n",
    "    topic: str\n",
    "    tweet: str\n",
    "    evaluation: Literal['approved' , 'needs_improvement']\n",
    "    feedback: str\n",
    "    iteration: int\n",
    "    max_iteration: int\n",
    "    tweet_history: Annotated[list[str] , operator.add]\n",
    "    feedback_history: Annotated[list[str] , operator.add]"
   ]
  },
  {
   "cell_type": "code",
   "execution_count": 25,
   "id": "b2d88a51",
   "metadata": {},
   "outputs": [],
   "source": [
    "class TweetEvaluation(BaseModel):\n",
    "    evaluation: Literal['approved' , 'needs_improvement'] = Field(... , description='final evaluation result.')\n",
    "    feedback: str = Field(... , description=\"Constructive feedback for the tweet.\")\n",
    "\n",
    "\n",
    "evaluator_llm_2 = evaluator_llm.with_structured_output(TweetEvaluation)"
   ]
  },
  {
   "cell_type": "code",
   "execution_count": null,
   "id": "16fb4b69",
   "metadata": {},
   "outputs": [],
   "source": [
    "def generation(state: TweetState):\n",
    "\n",
    "    messages = [\n",
    "        SystemMessage(content=\"You are a funny and clever Twitter/X influencer\"),\n",
    "        HumanMessage(content=f\"Write a small original and hilarious tweet on the topic '{state['topic']}'\")\n",
    "    ]\n",
    "    response = generator_llm.invoke(messages).content\n",
    "    return {'tweet': response , 'tweet_history': [response]}\n",
    "\n",
    "\n",
    "\n",
    "def evaluation(state: TweetState):\n",
    "    messages = [\n",
    "        SystemMessage(content=\"you are a ruthless tweet evaluator\"),\n",
    "        HumanMessage(content=f\"\"\"Evaluate the following tweet: {state['tweet']}\n",
    "        Respond only in structured format:\n",
    "        evaluation: \"approved\" or \"needs_improvement\" \n",
    "        feedback: One paragraph explaining the strengths and weakness \n",
    "        \"\"\")\n",
    "    ]\n",
    "    \n",
    "    response = evaluator_llm_2.invoke(messages)\n",
    "\n",
    "    return {'evaluation':response.evaluation, 'feedback': response.feedback , 'feedback_history': [response.feedback]}\n",
    "\n",
    "    \n",
    "def optimize_tweet(state: TweetState):\n",
    "    messages = [\n",
    "        SystemMessage(content=\"You punch up tweets for virality and humor based on given feedback\"),\n",
    "        HumanMessage(content=f\"\"\"\n",
    "Improve the tweet based on this feedback:\n",
    "'{state['feedback']}'\n",
    "\n",
    "Topic: '{state['topic']}'\n",
    "Original Tweet:\n",
    "{state['tweet']}                                        \n",
    "Rewrite it as a short , viral-worthy tweet. Avoid Q&A style under 200 characters.\"\"\")]\n",
    "    \n",
    "\n",
    "    response = optimizer_llm.invoke(messages).content\n",
    "    iteration = state['iteration']+1\n",
    "\n",
    "\n",
    "    return {'tweet': response , 'iteration': iteration , 'tweet_history': [response]}"
   ]
  },
  {
   "cell_type": "code",
   "execution_count": 31,
   "id": "84284798",
   "metadata": {},
   "outputs": [],
   "source": [
    "def routeEval(state: TweetState):\n",
    "    if state['evaluation'] == \"approved\" or state['iteration'] >= state['max_iteration']:\n",
    "        return 'approved'\n",
    "    else: 'needs_improvement'"
   ]
  },
  {
   "cell_type": "code",
   "execution_count": 36,
   "id": "63a83f8c",
   "metadata": {},
   "outputs": [
    {
     "data": {
      "text/plain": [
       "<langgraph.graph.state.StateGraph at 0x1efc040d070>"
      ]
     },
     "execution_count": 36,
     "metadata": {},
     "output_type": "execute_result"
    }
   ],
   "source": [
    "graph = StateGraph(TweetState)\n",
    "\n",
    "graph.add_node(\"generation\" , generation)\n",
    "graph.add_node(\"evaluation\" , evaluation)\n",
    "graph.add_node('optimize_tweet' , optimize_tweet)"
   ]
  },
  {
   "cell_type": "code",
   "execution_count": 37,
   "id": "eb37b470",
   "metadata": {},
   "outputs": [],
   "source": [
    "graph.add_edge(START , \"generation\")\n",
    "graph.add_edge(\"generation\" , \"evaluation\")\n",
    "graph.add_conditional_edges(\"evaluation\" , routeEval , {'approved': END , 'needs_improvement': 'optimize_tweet'})\n",
    "\n",
    "graph.add_edge('optimize_tweet' , 'evaluation')\n",
    "\n",
    "app = graph.compile()"
   ]
  },
  {
   "cell_type": "code",
   "execution_count": 9,
   "id": "30b751ea",
   "metadata": {},
   "outputs": [
    {
     "data": {
      "image/png": "[encoded data removed]",
      "text/plain": [
       "<langgraph.graph.state.CompiledStateGraph object at 0x000001EFC040E180>"
      ]
     },
     "execution_count": 9,
     "metadata": {},
     "output_type": "execute_result"
    }
   ],
   "source": [
    "app"
   ]
  },
  {
   "cell_type": "code",
   "execution_count": 38,
   "id": "0412db73",
   "metadata": {},
   "outputs": [
    {
     "data": {
      "text/plain": [
       "{'topic': 'Layoffs in the IT companies',\n",
       " 'tweet': AIMessage(content='\"Just got laid off from my IT job and I\\'m not mad, I\\'m just experiencing a little \\'glitch\\' in my career. On the bright side, I\\'ve been \\'downsized\\' to a life of playing video games in my PJs and eating Cheetos for breakfast. Anyone need a freelance couch surfer? #ITlife #LayoffLols\"', additional_kwargs={}, response_metadata={'token_usage': {'completion_tokens': 79, 'prompt_tokens': 44, 'total_tokens': 123, 'completion_time': 0.372927573, 'prompt_time': 0.001026333, 'queue_time': 0.27414902, 'total_time': 0.373953906}, 'model_name': 'llama3-70b-8192', 'system_fingerprint': 'fp_bf16903a67', 'finish_reason': 'stop', 'logprobs': None}, id='run--40aae5e6-b8e0-438c-be15-fbb17ed624c0-0', usage_metadata={'input_tokens': 44, 'output_tokens': 79, 'total_tokens': 123}),\n",
       " 'evaluation': 'approved',\n",
       " 'feedback': \"This tweet is well-crafted, using clever wordplay and humor to spin a negative situation into a lighthearted, relatable post. The use of IT terminology, such as 'glitch' and 'downsized,' adds a layer of cleverness and authenticity. The hashtags #ITlife and #LayoffLols are also well-chosen, making the tweet easy to discover and engage with. Overall, the tone is upbeat and entertaining, making it an enjoyable read.\",\n",
       " 'iteration': 1,\n",
       " 'max_iteration': 3,\n",
       " 'tweet_history': [AIMessage(content='\"Just got laid off from my IT job and I\\'m not mad, I\\'m just experiencing a little \\'glitch\\' in my career. On the bright side, I\\'ve been \\'downsized\\' to a life of playing video games in my PJs and eating Cheetos for breakfast. Anyone need a freelance couch surfer? #ITlife #LayoffLols\"', additional_kwargs={}, response_metadata={'token_usage': {'completion_tokens': 79, 'prompt_tokens': 44, 'total_tokens': 123, 'completion_time': 0.372927573, 'prompt_time': 0.001026333, 'queue_time': 0.27414902, 'total_time': 0.373953906}, 'model_name': 'llama3-70b-8192', 'system_fingerprint': 'fp_bf16903a67', 'finish_reason': 'stop', 'logprobs': None}, id='run--40aae5e6-b8e0-438c-be15-fbb17ed624c0-0', usage_metadata={'input_tokens': 44, 'output_tokens': 79, 'total_tokens': 123})],\n",
       " 'feedback_history': [\"This tweet is well-crafted, using clever wordplay and humor to spin a negative situation into a lighthearted, relatable post. The use of IT terminology, such as 'glitch' and 'downsized,' adds a layer of cleverness and authenticity. The hashtags #ITlife and #LayoffLols are also well-chosen, making the tweet easy to discover and engage with. Overall, the tone is upbeat and entertaining, making it an enjoyable read.\"]}"
      ]
     },
     "execution_count": 38,
     "metadata": {},
     "output_type": "execute_result"
    }
   ],
   "source": [
    "initial_state = {\n",
    "    \"topic\": \"Layoffs in the IT companies\",\n",
    "    \"iteration\":1,\n",
    "    \"max_iteration\":3\n",
    "}\n",
    "\n",
    "app.invoke(initial_state)\n"
   ]
  },
  {
   "cell_type": "code",
   "execution_count": null,
   "id": "2814fd8f",
   "metadata": {},
   "outputs": [],
   "source": []
  }
 ],
 "metadata": {
  "kernelspec": {
   "display_name": "Python 3",
   "language": "python",
   "name": "python3"
  },
  "language_info": {
   "codemirror_mode": {
    "name": "ipython",
    "version": 3
   },
   "file_extension": ".py",
   "mimetype": "text/x-python",
   "name": "python",
   "nbconvert_exporter": "python",
   "pygments_lexer": "ipython3",
   "version": "3.12.4"
  }
 },
 "nbformat": 4,
 "nbformat_minor": 5
}
