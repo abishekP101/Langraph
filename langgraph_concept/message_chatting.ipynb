{
 "cells": [
  {
   "cell_type": "code",
   "execution_count": null,
   "id": "e1739383",
   "metadata": {},
   "outputs": [],
   "source": [
    "from langgraph.graph import StateGraph ,START , END , add_messages\n",
    "from typing import TypedDict , Annotated\n",
    "from langchain_groq import ChatGroq\n",
    "from dotenv import load_dotenv\n",
    "from pydantic import BaseModel , Field\n",
    "import os\n",
    "load_dotenv()\n",
    "GROQ_API_KEY = os.getenv('GROQ_API_KEY1')\n",
    "\n",
    "model = ChatGroq(model_name=\"llama3-70b-8192\", api_key=GROQ_API_KEY, temperature=0.7)\n"
   ]
  },
  {
   "cell_type": "code",
   "execution_count": 2,
   "id": "42e9d3f0",
   "metadata": {},
   "outputs": [],
   "source": [
    "class State(TypedDict):\n",
    "    messages: Annotated[list , add_messages]\n",
    "graph = StateGraph(State)"
   ]
  },
  {
   "cell_type": "code",
   "execution_count": 3,
   "id": "d721e76c",
   "metadata": {},
   "outputs": [],
   "source": [
    "def chatbot(state: State):\n",
    "    return {\"messages\": model.invoke(state['messages'])}"
   ]
  },
  {
   "cell_type": "code",
   "execution_count": 4,
   "id": "8f8e2ea5",
   "metadata": {},
   "outputs": [],
   "source": [
    "graph.add_node(\"chatbot\" , chatbot)\n",
    "\n",
    "graph.add_edge(START , \"chatbot\")\n",
    "graph.add_edge(\"chatbot\" , END)\n",
    "\n",
    "app = graph.compile()"
   ]
  },
  {
   "cell_type": "code",
   "execution_count": 11,
   "id": "8e90fe13",
   "metadata": {},
   "outputs": [
    {
     "name": "stdout",
     "output_type": "stream",
     "text": [
      "dict_values([{'messages': AIMessage(content=\"Hi! It's nice to meet you. Is there something I can help you with, or would you like to chat?\", additional_kwargs={}, response_metadata={'token_usage': {'completion_tokens': 26, 'prompt_tokens': 11, 'total_tokens': 37, 'completion_time': 0.074285714, 'prompt_time': 0.000152838, 'queue_time': 0.272950052, 'total_time': 0.074438552}, 'model_name': 'llama3-70b-8192', 'system_fingerprint': 'fp_bf16903a67', 'finish_reason': 'stop', 'logprobs': None}, id='run--855c2e8c-6dd0-407f-bc76-49e8688b48c6-0', usage_metadata={'input_tokens': 11, 'output_tokens': 26, 'total_tokens': 37})}])\n",
      "content=\"Hi! It's nice to meet you. Is there something I can help you with, or would you like to chat?\" additional_kwargs={} response_metadata={'token_usage': {'completion_tokens': 26, 'prompt_tokens': 11, 'total_tokens': 37, 'completion_time': 0.074285714, 'prompt_time': 0.000152838, 'queue_time': 0.272950052, 'total_time': 0.074438552}, 'model_name': 'llama3-70b-8192', 'system_fingerprint': 'fp_bf16903a67', 'finish_reason': 'stop', 'logprobs': None} id='run--855c2e8c-6dd0-407f-bc76-49e8688b48c6-0' usage_metadata={'input_tokens': 11, 'output_tokens': 26, 'total_tokens': 37}\n",
      "Assistant:  Hi! It's nice to meet you. Is there something I can help you with, or would you like to chat?\n",
      "dict_values([{'messages': AIMessage(content=\"I'm just a language model, I don't have emotions or feelings like humans do. However, I'm functioning properly and ready to assist you with any questions or tasks you may have! How can I help you today?\", additional_kwargs={}, response_metadata={'token_usage': {'completion_tokens': 46, 'prompt_tokens': 13, 'total_tokens': 59, 'completion_time': 0.139808838, 'prompt_time': 0.000196697, 'queue_time': 0.273825483, 'total_time': 0.140005535}, 'model_name': 'llama3-70b-8192', 'system_fingerprint': 'fp_bf16903a67', 'finish_reason': 'stop', 'logprobs': None}, id='run--bbc9633a-89f9-48d0-8c3a-b7277c8e4765-0', usage_metadata={'input_tokens': 13, 'output_tokens': 46, 'total_tokens': 59})}])\n",
      "content=\"I'm just a language model, I don't have emotions or feelings like humans do. However, I'm functioning properly and ready to assist you with any questions or tasks you may have! How can I help you today?\" additional_kwargs={} response_metadata={'token_usage': {'completion_tokens': 46, 'prompt_tokens': 13, 'total_tokens': 59, 'completion_time': 0.139808838, 'prompt_time': 0.000196697, 'queue_time': 0.273825483, 'total_time': 0.140005535}, 'model_name': 'llama3-70b-8192', 'system_fingerprint': 'fp_bf16903a67', 'finish_reason': 'stop', 'logprobs': None} id='run--bbc9633a-89f9-48d0-8c3a-b7277c8e4765-0' usage_metadata={'input_tokens': 13, 'output_tokens': 46, 'total_tokens': 59}\n",
      "Assistant:  I'm just a language model, I don't have emotions or feelings like humans do. However, I'm functioning properly and ready to assist you with any questions or tasks you may have! How can I help you today?\n",
      "Good Bye\n"
     ]
    }
   ],
   "source": [
    "while True:\n",
    "    user_input = input(\"user: \")\n",
    "    if user_input.lower() in [\"quit\" , \"q\"]:\n",
    "        print(\"Good Bye\")\n",
    "        break\n",
    "    for event in app.stream({\"messages\": (\"user\" , user_input)}):\n",
    "        print(event.values())\n",
    "        for value in event.values():\n",
    "            print(value['messages'])\n",
    "            print(\"Assistant: \" , value[\"messages\"].content)"
   ]
  },
  {
   "cell_type": "markdown",
   "id": "74d0ae8f",
   "metadata": {},
   "source": [
    "## Langgraph with External tools"
   ]
  },
  {
   "cell_type": "code",
   "execution_count": 22,
   "id": "e07e523c",
   "metadata": {},
   "outputs": [],
   "source": [
    "from typing import Annotated\n",
    "from typing_extensions import TypedDict\n",
    "from langgraph.graph import StateGraph ,START , END , add_messages\n",
    "from langchain_groq import ChatGroq\n",
    "from dotenv import load_dotenv\n",
    "from pydantic import BaseModel , Field\n",
    "from langgraph.prebuilt import tools_condition , ToolNode\n",
    "import os\n",
    "load_dotenv()\n",
    "GROQ_API_KEY = os.getenv('GROQ_API_KEY1')"
   ]
  },
  {
   "cell_type": "code",
   "execution_count": 15,
   "id": "2124f7f6",
   "metadata": {},
   "outputs": [],
   "source": [
    "from langchain_community.utilities import ArxivAPIWrapper , WikipediaAPIWrapper\n",
    "from langchain_community.tools import ArxivQueryRun , WikipediaQueryRun\n",
    "\n",
    "arxiv = ArxivAPIWrapper(top_k_results=1 , doc_content_chars_max=300)\n",
    "arxiv_tool = ArxivQueryRun(api_wrapper=arxiv)\n",
    "\n",
    "wiki = WikipediaAPIWrapper(top_k_results=1 , doc_content_chars_max=300)\n",
    "wiki_tool = WikipediaQueryRun(api_wrapper=wiki)"
   ]
  },
  {
   "cell_type": "code",
   "execution_count": 16,
   "id": "0644fa9d",
   "metadata": {},
   "outputs": [
    {
     "data": {
      "text/plain": [
       "'Page: Family of Mahatma Gandhi\\nSummary: The Gandhi family is the family of Mohandas Karamchand Gandhi (2 October 1869 – 30 January 1948), commonly known as Mahatma Gandhi; Mahatma meaning \"high souled\" or \"venerable\" in Sanskrit;  the particular term \\'Mahatma\\' was accorded Mohandas Gandhi for the fi'"
      ]
     },
     "execution_count": 16,
     "metadata": {},
     "output_type": "execute_result"
    }
   ],
   "source": [
    "wiki_tool.invoke('who is Mahatma Gandhi')"
   ]
  },
  {
   "cell_type": "code",
   "execution_count": 20,
   "id": "3b05f90e",
   "metadata": {},
   "outputs": [],
   "source": [
    "tools = [wiki_tool , arxiv_tool]\n",
    "model = ChatGroq(model_name=\"llama3-70b-8192\", api_key=GROQ_API_KEY, temperature=0.7)\n",
    "model_with_tool = model.bind_tools(tools=tools)"
   ]
  },
  {
   "cell_type": "code",
   "execution_count": 18,
   "id": "62cf5039",
   "metadata": {},
   "outputs": [],
   "source": [
    "class State(TypedDict):\n",
    "    messages: Annotated[list , add_messages]"
   ]
  },
  {
   "cell_type": "code",
   "execution_count": 21,
   "id": "eae4cb45",
   "metadata": {},
   "outputs": [],
   "source": [
    "def chatbot(state: State):\n",
    "    return {\"messages\": [model_with_tool.invoke(state['messages'])]}\n",
    "    "
   ]
  },
  {
   "cell_type": "code",
   "execution_count": 24,
   "id": "e0eafcab",
   "metadata": {},
   "outputs": [
    {
     "data": {
      "image/png": "[encoded data removed]",
      "text/plain": [
       "<langgraph.graph.state.CompiledStateGraph object at 0x000001D0A790FD40>"
      ]
     },
     "execution_count": 24,
     "metadata": {},
     "output_type": "execute_result"
    }
   ],
   "source": [
    "graph = StateGraph(State)\n",
    "\n",
    "graph.add_node(\"chatbot\" , chatbot)\n",
    "graph.add_edge(START , \"chatbot\")\n",
    "tool_node = ToolNode(tools=tools)\n",
    "graph.add_node(\"tools\" , tool_node)\n",
    "\n",
    "graph.add_conditional_edges(\"chatbot\" , tools_condition)\n",
    "graph.add_edge(\"tools\" , \"chatbot\")\n",
    "graph.add_edge(\"chatbot\" , END)\n",
    "\n",
    "graph.compile()"
   ]
  },
  {
   "cell_type": "code",
   "execution_count": 25,
   "id": "abfb8bb6",
   "metadata": {},
   "outputs": [],
   "source": [
    "app = graph.compile()"
   ]
  },
  {
   "cell_type": "code",
   "execution_count": 27,
   "id": "5f8fa8eb",
   "metadata": {},
   "outputs": [
    {
     "name": "stdout",
     "output_type": "stream",
     "text": [
      "================================\u001b[1m Human Message \u001b[0m=================================\n",
      "\n",
      "What was the result of the last cricket test between India and England , if you don't know the answer use the tools provided\n",
      "==================================\u001b[1m Ai Message \u001b[0m==================================\n",
      "Tool Calls:\n",
      "  wikipedia (q3nnwmkdy)\n",
      " Call ID: q3nnwmkdy\n",
      "  Args:\n",
      "    query: India vs England cricket test\n",
      "=================================\u001b[1m Tool Message \u001b[0m=================================\n",
      "Name: wikipedia\n",
      "\n",
      "Page: Indian cricket team in England in 2025\n",
      "Summary: The India cricket team is touring England from June to August 2025 to play the England cricket team. The tour consists of five Test matches. The series forms part of the 2025–2027 ICC World Test Championship. In August 2024, the England and Wales\n",
      "==================================\u001b[1m Ai Message \u001b[0m==================================\n",
      "Tool Calls:\n",
      "  wikipedia (b0zgm3cdw)\n",
      " Call ID: b0zgm3cdw\n",
      "  Args:\n",
      "    query: 2025 England vs India Test series\n",
      "=================================\u001b[1m Tool Message \u001b[0m=================================\n",
      "Name: wikipedia\n",
      "\n",
      "Page: Indian cricket team in England in 2025\n",
      "Summary: The India cricket team is touring England from June to August 2025 to play the England cricket team. The tour consists of five Test matches. The series forms part of the 2025–2027 ICC World Test Championship. In August 2024, the England and Wales\n",
      "==================================\u001b[1m Ai Message \u001b[0m==================================\n",
      "\n",
      "It seems like the information about the result of the last cricket test between India and England is not available. Since the tour is scheduled to take place from June to August 2025, the result of the last test is not applicable in this case.\n"
     ]
    }
   ],
   "source": [
    "user_input = \"What was the result of the last cricket test between India and England , if you don't know the answer use the tools provided\"\n",
    "\n",
    "result = app.stream(\n",
    "    {\"messages\": [(\"user\" , user_input)]} , stream_mode=\"values\"\n",
    ")\n",
    "\n",
    "for event in result:\n",
    "    event['messages'][-1].pretty_print()\n"
   ]
  },
  {
   "cell_type": "code",
   "execution_count": null,
   "id": "b5d8bab9",
   "metadata": {},
   "outputs": [],
   "source": []
  }
 ],
 "metadata": {
  "kernelspec": {
   "display_name": "Python 3",
   "language": "python",
   "name": "python3"
  },
  "language_info": {
   "codemirror_mode": {
    "name": "ipython",
    "version": 3
   },
   "file_extension": ".py",
   "mimetype": "text/x-python",
   "name": "python",
   "nbconvert_exporter": "python",
   "pygments_lexer": "ipython3",
   "version": "3.12.4"
  }
 },
 "nbformat": 4,
 "nbformat_minor": 5
}
