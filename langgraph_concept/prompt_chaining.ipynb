{
 "cells": [
  {
   "cell_type": "code",
   "execution_count": 1,
   "id": "ac5cc898",
   "metadata": {},
   "outputs": [],
   "source": [
    "from langgraph.graph import StateGraph ,START , END\n",
    "from typing import TypedDict\n",
    "from langchain_groq import ChatGroq\n",
    "from dotenv import load_dotenv\n",
    "import os\n",
    "load_dotenv()\n",
    "GROQ_API_KEY = os.getenv('GROQ_API_KEY1')"
   ]
  },
  {
   "cell_type": "code",
   "execution_count": 2,
   "id": "d98c92b5",
   "metadata": {},
   "outputs": [],
   "source": [
    "model = ChatGroq(model_name=\"llama3-70b-8192\", api_key=GROQ_API_KEY, temperature=0.7)"
   ]
  },
  {
   "cell_type": "code",
   "execution_count": 3,
   "id": "9df68300",
   "metadata": {},
   "outputs": [],
   "source": [
    "class BlogState(TypedDict):\n",
    "    title: str\n",
    "    outline: str\n",
    "    content: str"
   ]
  },
  {
   "cell_type": "code",
   "execution_count": 4,
   "id": "8514ef8f",
   "metadata": {},
   "outputs": [],
   "source": [
    "def create_outline(state : BlogState) -> BlogState:\n",
    "    title = state['title']\n",
    "\n",
    "    prompt = f\"Generate a outline for a blog on the topic {title}\"\n",
    "    outline = model.invoke(prompt)\n",
    "\n",
    "    state['outline'] = outline\n",
    "\n",
    "    return state"
   ]
  },
  {
   "cell_type": "code",
   "execution_count": null,
   "id": "7dddd814",
   "metadata": {},
   "outputs": [],
   "source": [
    "def create_blog(state: BlogState) -> BlogState:\n",
    "    title = state['title']\n",
    "    outline = state['outline']\n",
    "\n",
    "    prompt = f\"Generate a blog on the topic {title} based on the outline provided :\\n {outline}\"\n",
    "    blog = model.invoke(prompt)\n",
    "\n",
    "    state['content'] = blog\n",
    "\n",
    "    return state"
   ]
  },
  {
   "cell_type": "code",
   "execution_count": 7,
   "id": "f1f27d82",
   "metadata": {},
   "outputs": [],
   "source": [
    "graph = StateGraph(BlogState)\n",
    "\n",
    "graph.add_node('create_outline' , create_outline)\n",
    "graph.add_node('create_blog' , create_blog)\n",
    "\n",
    "graph.add_edge(START , \"create_outline\")\n",
    "graph.add_edge(\"create_outline\" , \"create_blog\")\n",
    "graph.add_edge(\"create_blog\" , END)\n",
    "\n",
    "\n",
    "app = graph.compile()"
   ]
  },
  {
   "cell_type": "code",
   "execution_count": 9,
   "id": "189651f6",
   "metadata": {},
   "outputs": [
    {
     "name": "stdout",
     "output_type": "stream",
     "text": [
      "content=\"**Rise of AI Agents in Companies: Revolutionizing the Way Businesses Operate**\\n\\n**Introduction**\\n\\nIn recent years, Artificial Intelligence (AI) agents have become an integral part of many companies, transforming the way they operate and interact with customers. As AI technology continues to advance, it's essential to understand the impact of AI agents on businesses and how they can be leveraged to drive growth and success. In this blog, we'll explore the rise of AI agents in companies, their benefits, applications, challenges, and future prospects.\\n\\n**What are AI Agents?**\\n\\nAI agents are autonomous entities that use artificial intelligence to perform tasks, make decisions, and interact with humans. They can be categorized into three types: chatbots, virtual assistants, and autonomous systems. AI agents are being used in various industries, including customer service, marketing, finance, and healthcare. For instance, chatbots are being used to provide 24/7 customer support, while virtual assistants are helping with tasks such as scheduling appointments and sending reminders.\\n\\n**Benefits of AI Agents in Companies**\\n\\nThe integration of AI agents into companies has numerous benefits, including:\\n\\n* **Improved Efficiency and Productivity**: AI agents can automate repetitive tasks, freeing up human employees to focus on more strategic and creative work.\\n* **Enhanced Customer Experience**: AI agents can provide personalized support and responses, leading to increased customer satisfaction and loyalty.\\n* **Cost Savings and Increased Revenue**: AI agents can help reduce operational costs and increase revenue through targeted marketing and sales efforts.\\n* **Data Analysis and Insights**: AI agents can analyze large datasets, providing valuable insights that inform business decisions.\\n\\nCompanies such as American Express, IBM, and Domino's Pizza have successfully implemented AI agents, resulting in improved customer experience, increased efficiency, and cost savings.\\n\\n**Applications of AI Agents in Companies**\\n\\nAI agents are being used in various departments across companies, including:\\n\\n* **Customer Service**: Chatbots, virtual assistants, and automated support systems are being used to provide 24/7 customer support.\\n* **Sales and Marketing**: AI agents are being used for lead generation, lead qualification, and personalized marketing.\\n* **Operations**: AI agents are being used for process automation, supply chain management, and inventory control.\\n* **Human Resources**: AI agents are being used for recruitment, talent management, and employee engagement.\\n\\n**Challenges and Limitations of AI Agents**\\n\\nWhile AI agents offer numerous benefits, there are also challenges and limitations to consider:\\n\\n* **Job Displacement and Workforce Impact**: The automation of tasks may lead to job displacement, requiring companies to upskill and reskill their workforce.\\n* **Data Privacy and Security Concerns**: AI agents require access to large datasets, raising concerns about data privacy and security.\\n* **Integration with Existing Systems and Infrastructure**: AI agents may require significant investment in infrastructure and system integration.\\n* **Limited Decision-Making Capabilities and Lack of Human Intuition**: AI agents lack human intuition and emotional intelligence, limiting their decision-making capabilities.\\n\\n**Future of AI Agents in Companies**\\n\\nThe future of AI agents in companies looks promising, with trends and predictions indicating:\\n\\n* **Increased Adoption**: AI agents will become more widespread across industries and departments.\\n* **Emerging Technologies and Advancements**: Advancements in natural language processing, computer vision, and other areas will enhance the capabilities of AI agents.\\n* **Augmenting Human Capabilities and Creating New Job Opportunities**: AI agents will augment human capabilities, creating new job opportunities and transforming the workforce.\\n\\n**Best Practices for Implementing AI Agents**\\n\\nTo successfully implement AI agents, companies should:\\n\\n* **Assess Business Needs and Identify Areas for AI Agent Implementation**: Determine where AI agents can add the most value.\\n* **Choose the Right AI Agent Platform and Vendor**: Select a platform and vendor that meets business needs and ensures seamless integration.\\n* **Ensure Data Quality and Integration**: Ensure data quality and integration to enable AI agents to make informed decisions.\\n* **Train and Upskill Human Employees to Work with AI Agents**: Provide training and upskilling to ensure human employees can work effectively with AI agents.\\n\\n**Conclusion**\\n\\nThe rise of AI agents in companies is transforming the way businesses operate, and it's essential to understand their role and implications. While there are challenges and limitations, the benefits of AI agents far outweigh the drawbacks. By embracing AI agents as a key component of digital transformation, companies can drive growth, improve efficiency, and enhance customer experience. As AI technology continues to evolve, it's crucial for companies to stay ahead of the curve and leverage AI agents to remain competitive in today's fast-paced business landscape.\" additional_kwargs={} response_metadata={'token_usage': {'completion_tokens': 924, 'prompt_tokens': 674, 'total_tokens': 1598, 'completion_time': 2.867905487, 'prompt_time': 0.021949904, 'queue_time': 0.274360196, 'total_time': 2.889855391}, 'model_name': 'llama3-70b-8192', 'system_fingerprint': 'fp_bf16903a67', 'finish_reason': 'stop', 'logprobs': None} id='run--d889bbc0-c21e-47c1-b75c-00324ce5bec2-0' usage_metadata={'input_tokens': 674, 'output_tokens': 924, 'total_tokens': 1598}\n"
     ]
    }
   ],
   "source": [
    "initial_state = {\"title\": \"Rise of AI Agents in company\"}\n",
    "\n",
    "final_state = app.invoke(initial_state)\n",
    "print(final_state['content'])"
   ]
  },
  {
   "cell_type": "code",
   "execution_count": null,
   "id": "dbd5ed19",
   "metadata": {},
   "outputs": [],
   "source": []
  }
 ],
 "metadata": {
  "kernelspec": {
   "display_name": "Python 3",
   "language": "python",
   "name": "python3"
  },
  "language_info": {
   "codemirror_mode": {
    "name": "ipython",
    "version": 3
   },
   "file_extension": ".py",
   "mimetype": "text/x-python",
   "name": "python",
   "nbconvert_exporter": "python",
   "pygments_lexer": "ipython3",
   "version": "3.12.4"
  }
 },
 "nbformat": 4,
 "nbformat_minor": 5
}
