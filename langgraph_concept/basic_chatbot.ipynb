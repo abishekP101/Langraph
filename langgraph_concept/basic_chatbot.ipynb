{
 "cells": [
  {
   "cell_type": "code",
   "execution_count": 12,
   "id": "c340a9dd",
   "metadata": {},
   "outputs": [],
   "source": [
    "from langgraph.graph import StateGraph ,START , END , add_messages\n",
    "from typing import TypedDict , Annotated\n",
    "from langchain_groq import ChatGroq\n",
    "from dotenv import load_dotenv\n",
    "from pydantic import BaseModel , Field\n",
    "from langchain_core.messages import BaseMessage , HumanMessage\n",
    "from langgraph.checkpoint.memory import MemorySaver\n",
    "import os\n",
    "load_dotenv()\n",
    "GROQ_API_KEY = os.getenv('GROQ_API_KEY1')\n",
    "\n",
    "model = ChatGroq(model_name=\"llama3-70b-8192\", api_key=GROQ_API_KEY, temperature=0.7)\n"
   ]
  },
  {
   "cell_type": "code",
   "execution_count": 3,
   "id": "f864e9a1",
   "metadata": {},
   "outputs": [],
   "source": [
    "import operator\n",
    "from langgraph.graph.message import add_messages"
   ]
  },
  {
   "cell_type": "code",
   "execution_count": 6,
   "id": "91222334",
   "metadata": {},
   "outputs": [],
   "source": [
    "class ChatState(TypedDict):\n",
    "    messages: Annotated[list[BaseMessage] ,add_messages]"
   ]
  },
  {
   "cell_type": "code",
   "execution_count": null,
   "id": "4dcfdf0d",
   "metadata": {},
   "outputs": [],
   "source": [
    "def chat_node(state: ChatState):\n",
    "    messages = state['messages']\n",
    "\n",
    "    response = model.invoke(messages).content\n",
    "\n",
    "    return {'messages': [response]}"
   ]
  },
  {
   "cell_type": "code",
   "execution_count": 13,
   "id": "89b82ab4",
   "metadata": {},
   "outputs": [],
   "source": [
    "\n",
    "checkpointer = MemorySaver()\n",
    "graph = StateGraph(ChatState)\n",
    "\n",
    "graph.add_node(\"chat_node\" , chat_node)\n",
    "graph.add_edge(START , 'chat_node')\n",
    "graph.add_edge('chat_node' , END)\n",
    "\n",
    "chatbot = graph.compile(checkpointer=checkpointer)"
   ]
  },
  {
   "cell_type": "code",
   "execution_count": 10,
   "id": "feba0b3a",
   "metadata": {},
   "outputs": [
    {
     "data": {
      "text/plain": [
       "'The capital of Sikkim is Gangtok.'"
      ]
     },
     "execution_count": 10,
     "metadata": {},
     "output_type": "execute_result"
    }
   ],
   "source": [
    "initial_state = {'messages': [HumanMessage(content='What is the capital of Sikkim')]}\n",
    "chatbot.invoke(initial_state)['messages'][-1].content"
   ]
  },
  {
   "cell_type": "code",
   "execution_count": 14,
   "id": "0e0807ca",
   "metadata": {},
   "outputs": [
    {
     "name": "stdout",
     "output_type": "stream",
     "text": [
      "User : hi\n",
      "AI:  Hi! It's nice to meet you. Is there something I can help you with or would you like to chat?\n",
      "User : what is 2 + 2\n",
      "AI:  The answer to 2 + 2 is 4.\n",
      "User : add 5 to the result\n",
      "AI:  If we add 5 to 4, we get:\n",
      "\n",
      "4 + 5 = 9\n",
      "User : quit\n"
     ]
    }
   ],
   "source": [
    "thread_id = '1'\n",
    "\n",
    "while True:\n",
    "    user_message  = input('Type here: ')\n",
    "\n",
    "    print('User :', user_message)\n",
    "    if user_message.strip().lower() in ['exit' , 'quit' , 'bye']:\n",
    "        break\n",
    "    config = {'configurable': {'thread_id':thread_id}}\n",
    "    response = chatbot.invoke({'messages': [HumanMessage(content=user_message)]} , config=config)\n",
    "    print('AI: ' , response['messages'][-1].content)"
   ]
  },
  {
   "cell_type": "code",
   "execution_count": 17,
   "id": "3ca6f895",
   "metadata": {},
   "outputs": [
    {
     "data": {
      "text/plain": [
       "StateSnapshot(values={'messages': [HumanMessage(content='hi', additional_kwargs={}, response_metadata={}, id='16061fa7-c4d0-4746-8d03-d39e6a03b6d9'), AIMessage(content=\"Hi! It's nice to meet you. Is there something I can help you with or would you like to chat?\", additional_kwargs={}, response_metadata={'token_usage': {'completion_tokens': 25, 'prompt_tokens': 11, 'total_tokens': 36, 'completion_time': 0.075968892, 'prompt_time': 0.000145008, 'queue_time': 0.275178314, 'total_time': 0.0761139}, 'model_name': 'llama3-70b-8192', 'system_fingerprint': 'fp_bf16903a67', 'finish_reason': 'stop', 'logprobs': None}, id='run--fb23a923-7d28-4393-a51c-dd5a2cd4effe-0', usage_metadata={'input_tokens': 11, 'output_tokens': 25, 'total_tokens': 36}), HumanMessage(content='what is 2 + 2', additional_kwargs={}, response_metadata={}, id='890fa635-524a-4712-ae7a-6dea5ef2d4d9'), AIMessage(content='The answer to 2 + 2 is 4.', additional_kwargs={}, response_metadata={'token_usage': {'completion_tokens': 13, 'prompt_tokens': 52, 'total_tokens': 65, 'completion_time': 0.039390207, 'prompt_time': 0.001288168, 'queue_time': 0.274846213, 'total_time': 0.040678375}, 'model_name': 'llama3-70b-8192', 'system_fingerprint': 'fp_bf16903a67', 'finish_reason': 'stop', 'logprobs': None}, id='run--536ea6bf-d851-4025-9923-9971628e8861-0', usage_metadata={'input_tokens': 52, 'output_tokens': 13, 'total_tokens': 65}), HumanMessage(content='add 5 to the result', additional_kwargs={}, response_metadata={}, id='40ae3a88-461b-407f-80b0-0efe23585ea1'), AIMessage(content='If we add 5 to 4, we get:\\n\\n4 + 5 = 9', additional_kwargs={}, response_metadata={'token_usage': {'completion_tokens': 20, 'prompt_tokens': 80, 'total_tokens': 100, 'completion_time': 0.076743479, 'prompt_time': 0.002161483, 'queue_time': 0.289972839, 'total_time': 0.078904962}, 'model_name': 'llama3-70b-8192', 'system_fingerprint': 'fp_bf16903a67', 'finish_reason': 'stop', 'logprobs': None}, id='run--f9d4676c-05e4-40d0-a7f7-b7ad00d02efb-0', usage_metadata={'input_tokens': 80, 'output_tokens': 20, 'total_tokens': 100})]}, next=(), config={'configurable': {'thread_id': '1', 'checkpoint_ns': '', 'checkpoint_id': '1f070513-2050-676a-8007-42b66bfaea49'}}, metadata={'source': 'loop', 'step': 7, 'parents': {}}, created_at='2025-08-03T10:04:08.233764+00:00', parent_config={'configurable': {'thread_id': '1', 'checkpoint_ns': '', 'checkpoint_id': '1f070513-10b0-605d-8006-649d40345493'}}, tasks=(), interrupts=())"
      ]
     },
     "execution_count": 17,
     "metadata": {},
     "output_type": "execute_result"
    }
   ],
   "source": [
    "chatbot.get_state(config=config)"
   ]
  },
  {
   "cell_type": "code",
   "execution_count": null,
   "id": "79dd48f2",
   "metadata": {},
   "outputs": [],
   "source": []
  }
 ],
 "metadata": {
  "kernelspec": {
   "display_name": "Python 3",
   "language": "python",
   "name": "python3"
  },
  "language_info": {
   "codemirror_mode": {
    "name": "ipython",
    "version": 3
   },
   "file_extension": ".py",
   "mimetype": "text/x-python",
   "name": "python",
   "nbconvert_exporter": "python",
   "pygments_lexer": "ipython3",
   "version": "3.12.4"
  }
 },
 "nbformat": 4,
 "nbformat_minor": 5
}
